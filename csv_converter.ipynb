{
 "cells": [
  {
   "cell_type": "code",
   "execution_count": 1,
   "metadata": {},
   "outputs": [],
   "source": [
    "import csv\n",
    "import os\n",
    "def getCSVFiles(rootPath):\n",
    "    res=[]\n",
    "    for file in os.listdir(rootPath):\n",
    "        if (os.path.isfile(os.path.join(rootPath, file))) & ((os.path.splitext(file))[1]=='.csv'):\n",
    "            res.append(rootPath+file)\n",
    "    return res\n",
    "def convCSV(files, destPath):\n",
    "    prev_day_temp = 2.\n",
    "    dFile=open(destPath, 'a')\n",
    "    for file in files:\n",
    "        with open(file, newline='') as csvfile:\n",
    "            row = csv.reader(csvfile)\n",
    "            for index, row in enumerate(row):\n",
    "                if row[1]==\"GDAŃSK-RĘBIECHOWO\":\n",
    "                    dFile.write(row[1]+','+row[4]+'-'+row[3]+'-'+row[2]+','+row[5]+','+row[7]+','+row[9]+','+row[13]+','+row[15]+','+str(prev_day_temp)+\"\\n\")\n",
    "                    \n",
    "                    prev_day_temp = row[9]\n",
    "    dFile.close()\n",
    "\n",
    "\n",
    "            # if row.line_num(1)==\"GDAŃSK-RĘBIECHOWO\":\n",
    "            #     for column in row:\n",
    "            #         print(','.join(column))\n",
    "            #         i+=1\n",
    "\n",
    "resFilePath=\"result.csv\"\n",
    "dFile=open(resFilePath, 'w')\n",
    "dFile.write(\"Station_Name,Date,Max_Temp,Min_Temp,Avg_Temp,Sum_Fall,Kind_of_Fall,Avg_Temp_Pre_Day\\n\")\n",
    "dFile.close()\n",
    "\n",
    "fileName = \"data/\"\n",
    "for i in range(2014, 2023):\n",
    "    fileNameTemp = fileName + str(i) + \"/\"\n",
    "    convCSV(getCSVFiles(fileNameTemp), resFilePath)"
   ]
  }
 ],
 "metadata": {
  "kernelspec": {
   "display_name": "Python 3",
   "language": "python",
   "name": "python3"
  },
  "language_info": {
   "codemirror_mode": {
    "name": "ipython",
    "version": 3
   },
   "file_extension": ".py",
   "mimetype": "text/x-python",
   "name": "python",
   "nbconvert_exporter": "python",
   "pygments_lexer": "ipython3",
   "version": "3.9.13"
  },
  "orig_nbformat": 4
 },
 "nbformat": 4,
 "nbformat_minor": 2
}
